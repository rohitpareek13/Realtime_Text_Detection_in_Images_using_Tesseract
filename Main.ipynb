{
 "cells": [
  {
   "cell_type": "code",
   "execution_count": null,
   "id": "d44f1066",
   "metadata": {},
   "outputs": [],
   "source": [
    "import pytesseract\n"
   ]
  },
  {
   "cell_type": "code",
   "execution_count": null,
   "id": "db3da12d",
   "metadata": {},
   "outputs": [],
   "source": [
    "import cv2\n"
   ]
  },
  {
   "cell_type": "code",
   "execution_count": null,
   "id": "0637b9b3",
   "metadata": {},
   "outputs": [],
   "source": [
    "import matplotlib.pyplot as plt"
   ]
  },
  {
   "cell_type": "code",
   "execution_count": null,
   "id": "8cead7d6",
   "metadata": {},
   "outputs": [],
   "source": [
    "# For Configuration\n",
    "pytesseract.pytesseract.tesseract_cmd= r'C:\\Users\\Rohit Pareek\\AppData\\Local\\Programs\\Tesseract-OCR\\tesseract.exe'\n",
    "img = cv2.imread('Demo.jpg')\n",
    "plt.imshow(img)"
   ]
  },
  {
   "cell_type": "code",
   "execution_count": null,
   "id": "a7528a9d",
   "metadata": {},
   "outputs": [],
   "source": [
    "img2char = pytesseract.image_to_string(img)"
   ]
  },
  {
   "cell_type": "code",
   "execution_count": null,
   "id": "a8cd7bf2",
   "metadata": {},
   "outputs": [],
   "source": [
    "print(img2char)"
   ]
  },
  {
   "cell_type": "code",
   "execution_count": null,
   "id": "9caf2cca",
   "metadata": {},
   "outputs": [],
   "source": [
    "imgbox = pytesseract.image_to_boxes(img)"
   ]
  },
  {
   "cell_type": "code",
   "execution_count": null,
   "id": "ed0221f7",
   "metadata": {},
   "outputs": [],
   "source": [
    "type(imgbox)"
   ]
  },
  {
   "cell_type": "code",
   "execution_count": null,
   "id": "c95730cb",
   "metadata": {},
   "outputs": [],
   "source": [
    "print(imgbox)"
   ]
  },
  {
   "cell_type": "code",
   "execution_count": null,
   "id": "36f35b9f",
   "metadata": {},
   "outputs": [],
   "source": [
    "imgH, imgW,_ = img.shape"
   ]
  },
  {
   "cell_type": "code",
   "execution_count": null,
   "id": "e128aff8",
   "metadata": {},
   "outputs": [],
   "source": [
    "img.shape"
   ]
  },
  {
   "cell_type": "code",
   "execution_count": null,
   "id": "1689e6b0",
   "metadata": {},
   "outputs": [],
   "source": [
    "for boxes in imgbox.splitlines():\n",
    "    boxes = boxes.split(' ')\n",
    "    x,y,w,h= int(boxes[1]),int(boxes[2]),int(boxes[3]),int(boxes[4])\n",
    "    cv2.rectangle(img,(x, imgH-y),(w,imgH-h),(0,0,255),3)"
   ]
  },
  {
   "cell_type": "code",
   "execution_count": null,
   "id": "340a5987",
   "metadata": {},
   "outputs": [],
   "source": [
    "plt.imshow(img)"
   ]
  },
  {
   "cell_type": "code",
   "execution_count": null,
   "id": "64f870fd",
   "metadata": {},
   "outputs": [],
   "source": [
    "plt.imshow(cv2.cvtColor(img, cv2.COLOR_BGR2RGB))"
   ]
  },
  {
   "cell_type": "markdown",
   "id": "50a18590",
   "metadata": {},
   "source": [
    "# Video Demo"
   ]
  },
  {
   "cell_type": "code",
   "execution_count": null,
   "id": "3f7e5ada",
   "metadata": {},
   "outputs": [],
   "source": [
    "#import cv2\n",
    "\n",
    "#import numpy as np\n",
    "font_scale = 1.5\n",
    "font = cv2.FONT_HERSHEY_PLAIN\n",
    "\n",
    "#cap = cv2.VideoCapture(1)\n",
    "cap = cv2.VideoCapture(\"Demo_Video.mp4\")\n",
    "if not cap.isOpened():\n",
    "    cap = cv2.VideoCapture(0)\n",
    "if not cap.isOpened():\n",
    "    raise IOError(\"Cannont open video\")\n",
    "    \n",
    "cntr =0;\n",
    "while True:\n",
    "    ret,frame = cap.read()\n",
    "    cntr = cntr+1;\n",
    "    if ((cntr%20)==0):\n",
    "        \n",
    "        imgH, imgW,_ = frame.shape\n",
    "        \n",
    "        x1,y1,w1,h1 = 0,0,imgH,imgW\n",
    "        \n",
    "        imgchar = pytesseract.image_to_string(frame)\n",
    "        \n",
    "        imgboxes = pytesseract.image_to_boxes(frame)\n",
    "        for boxes in imgboxes.splitlines():\n",
    "            boxes = boxes.split(' ')\n",
    "            x,y,w,h= int(boxes[1]),int(boxes[2]),int(boxes[3]),int(boxes[4])\n",
    "            cv2.rectangle(frame, (x, imgH-y),(w,imgH-h),(0,0,255),3)\n",
    "        \n",
    "        \n",
    "        cv2.putText(frame, imgchar, (x1 + int(w1/50),y1 + int(h1/50)), cv2.FONT_HERSHEY_SIMPLEX, 0.7,(255,0,0),2)\n",
    "        \n",
    "        font = cv2.FONT_HERSHEY_SIMPLEX\n",
    "        \n",
    "        \n",
    "        \n",
    "        \n",
    "        cv2.imshow('Text Detection Tutorial',frame)\n",
    "        \n",
    "        if cv2.waitKey(2) & 0xFF == ord('q'):\n",
    "            break\n",
    "            \n",
    "cap.release()\n",
    "cv2.destroyAllWindows()\n"
   ]
  },
  {
   "cell_type": "markdown",
   "id": "5c5291b3",
   "metadata": {},
   "source": [
    "# WEBCAM"
   ]
  },
  {
   "cell_type": "code",
   "execution_count": null,
   "id": "9267c13a",
   "metadata": {},
   "outputs": [],
   "source": [
    "#import cv2\n",
    "\n",
    "#import numpy as np\n",
    "font_scale = 1.5\n",
    "font = cv2.FONT_HERSHEY_PLAIN\n",
    "\n",
    "cap = cv2.VideoCapture(1)\n",
    "#cap = cv2.VideoCapture(\"Demo_Video.mp4\")\n",
    "if not cap.isOpened():\n",
    "    cap = cv2.VideoCapture(0)\n",
    "if not cap.isOpened():\n",
    "    raise IOError(\"Cannont open video\")\n",
    "    \n",
    "cntr =0;\n",
    "while True:\n",
    "    ret,frame = cap.read()\n",
    "    cntr = cntr+1;\n",
    "    if ((cntr%20)==0):\n",
    "        \n",
    "        imgH, imgW,_ = frame.shape\n",
    "        \n",
    "        x1,y1,w1,h1 = 0,0,imgH,imgW\n",
    "        \n",
    "        imgchar = pytesseract.image_to_string(frame)\n",
    "        \n",
    "        imgboxes = pytesseract.image_to_boxes(frame)\n",
    "        for boxes in imgboxes.splitlines():\n",
    "            boxes = boxes.split(' ')\n",
    "            x,y,w,h= int(boxes[1]),int(boxes[2]),int(boxes[3]),int(boxes[4])\n",
    "            cv2.rectangle(frame, (x, imgH-y),(w,imgH-h),(0,0,255),3)\n",
    "        \n",
    "        \n",
    "        cv2.putText(frame, imgchar, (x1 + int(w1/50),y1 + int(h1/50)), cv2.FONT_HERSHEY_SIMPLEX, 0.7,(255,0,0),2)\n",
    "        \n",
    "        font = cv2.FONT_HERSHEY_SIMPLEX\n",
    "        \n",
    "        \n",
    "        \n",
    "        \n",
    "        cv2.imshow('Text Detection Tutorial',frame)\n",
    "        \n",
    "        if cv2.waitKey(2) & 0xFF == ord('q'):\n",
    "            break\n",
    "            \n",
    "cap.release()\n",
    "cv2.destroyAllWindows()\n"
   ]
  },
  {
   "cell_type": "code",
   "execution_count": null,
   "id": "7cc6501c",
   "metadata": {},
   "outputs": [],
   "source": []
  },
  {
   "cell_type": "code",
   "execution_count": null,
   "id": "150d2a16",
   "metadata": {},
   "outputs": [],
   "source": []
  }
 ],
 "metadata": {
  "kernelspec": {
   "display_name": "Python 3 (ipykernel)",
   "language": "python",
   "name": "python3"
  },
  "language_info": {
   "codemirror_mode": {
    "name": "ipython",
    "version": 3
   },
   "file_extension": ".py",
   "mimetype": "text/x-python",
   "name": "python",
   "nbconvert_exporter": "python",
   "pygments_lexer": "ipython3",
   "version": "3.9.13"
  }
 },
 "nbformat": 4,
 "nbformat_minor": 5
}
